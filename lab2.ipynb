{
 "cells": [
  {
   "cell_type": "markdown",
   "metadata": {},
   "source": [
    "# Лабораторная работа №2. Критерии согласия и однородности выборок\n",
    "\n",
    "> Вариант № 11\n",
    "\n",
    "**Распределения**:\n",
    "\n",
    "$X$ ~ $\\chi^2(10)$ (объём выборки $n_x$ = 150)\n",
    "\n",
    "$Y$ ~ $R(5, 15)$ (объём выборки $n_y$ = 250)"
   ]
  },
  {
   "cell_type": "code",
   "execution_count": 1,
   "metadata": {},
   "outputs": [],
   "source": [
    "%matplotlib inline\n",
    "import numpy as np\n",
    "from scipy import stats\n",
    "import matplotlib.pyplot as plt\n",
    "from statsmodels.distributions.empirical_distribution import ECDF\n",
    "\n",
    "# Немного магии для того, чтобы рисунки стали больше\n",
    "import pylab\n",
    "pylab.rcParams['figure.figsize'] = (24.0, 16.0)\n",
    "plt.rcParams.update({'font.size': 22})\n",
    "\n",
    "# Вспомогательные классы и функции, определённые тут же (см. репозиторий)\n",
    "# https://github.com/BobNobrain/matstat-labs/tree/master/s\n",
    "from s import Sample\n",
    "from s.utils import table"
   ]
  },
  {
   "cell_type": "markdown",
   "metadata": {},
   "source": [
    "## Задание переменных и генерация выборок"
   ]
  },
  {
   "cell_type": "code",
   "execution_count": 2,
   "metadata": {},
   "outputs": [
    {
     "name": "stdout",
     "output_type": "stream",
     "text": [
      "Sample x: m=0.8186145283073205, s=1.2138900679340279, s^2=1.4735290970288788\n",
      "Sample y: m=0.5287746592107443, s=0.2933491163041909, s^2=0.08605370403644973\n"
     ]
    },
    {
     "data": {
      "text/html": [
       "<table width=\"100%\" class=\"htable\">\n",
       "    <thead><tr><th>Распределение</th><th>Параметры</th><th>$m$</th><th>$\\sigma^2$</th></tr></thead>\n",
       "    <tbody><tr><td>$\\chi^2$</td><td>n = 1</td><td>1.0</td><td>2.0</td></tr><tr><td>N</td><td>m = 0.5, $\\sigma$ = 0.3</td><td>0.5</td><td>0.0833</td></tr></tbody>\n",
       "    </table>"
      ],
      "text/plain": [
       "<IPython.core.display.HTML object>"
      ]
     },
     "metadata": {},
     "output_type": "display_data"
    }
   ],
   "source": [
    "nx = 150\n",
    "ny = 250\n",
    "\n",
    "X = stats.chi2(10)\n",
    "Y = stats.uniform(5, 15)\n",
    "\n",
    "# Пример использования класса Sample для получения выборки из заданного распределения\n",
    "x = Sample.from_distribution(\"x\", X, count=nx)\n",
    "y = Sample.from_distribution(\"y\", Y, count=ny)\n",
    "# Альтернатива: X.rvs(size=nx) - массив случайных чисел из заданного распределения\n",
    "\n",
    "# Вспомогательный метод класса s.Sample\n",
    "x.describe()\n",
    "y.describe()\n",
    "\n",
    "# Отрисовка таблицы: массив заголовочных ячеек, массив строк таблицы\n",
    "table(\n",
    "    ['Распределение', 'Параметры', '$m$', '$\\\\sigma^2$'],\n",
    "    [\n",
    "        ['$\\\\chi^2$', 'n = 1', X.mean(), X.var()],\n",
    "        ['N', 'm = 0.5, $\\\\sigma$ = 0.3', Y.mean(), round(Y.var(), 4)]\n",
    "    ]\n",
    ")"
   ]
  },
  {
   "cell_type": "markdown",
   "metadata": {},
   "source": [
    "## 1. Исходные данные"
   ]
  },
  {
   "cell_type": "code",
   "execution_count": 3,
   "metadata": {},
   "outputs": [
    {
     "name": "stdout",
     "output_type": "stream",
     "text": [
      "Характеристики СВ X:\n"
     ]
    },
    {
     "data": {
      "text/html": [
       "<table width=\"100%\" class=\"htable\">\n",
       "    <thead><tr><th>Распределение</th><th>Параметры</th><th>Мат. ожидание $m$</th><th>Дисперсия $\\sigma^2$</th></tr></thead>\n",
       "    <tbody><tr><td>$\\chi^2$</td><td>1</td><td>1</td><td>2</td></tr></tbody>\n",
       "    </table>"
      ],
      "text/plain": [
       "<IPython.core.display.HTML object>"
      ]
     },
     "metadata": {},
     "output_type": "display_data"
    },
    {
     "name": "stdout",
     "output_type": "stream",
     "text": [
      "Характеристики выборки x\n"
     ]
    },
    {
     "data": {
      "text/html": [
       "<table width=\"100%\" class=\"htable\">\n",
       "    <thead><tr><th>Среднее, $\\overline{x}$</th><th>Оценка дисперсии, $s^2$</th><th>Оценка с.к.о., $s$</th></tr></thead>\n",
       "    <tbody><tr><td>0.8186145283073205</td><td>1.4661614515437342</td><td>1.2138900679340279</td></tr></tbody>\n",
       "    </table>"
      ],
      "text/plain": [
       "<IPython.core.display.HTML object>"
      ]
     },
     "metadata": {},
     "output_type": "display_data"
    }
   ],
   "source": [
    "print('Характеристики СВ X:')\n",
    "table(\n",
    "    ['Распределение', 'Параметры', 'Мат. ожидание $m$', 'Дисперсия $\\\\sigma^2$'],\n",
    "    [['$\\\\chi^2$', '1', '1', '2']]\n",
    ")\n",
    "\n",
    "print('Характеристики выборки x')\n",
    "table(\n",
    "    ['Среднее, $\\\\overline{x}$', 'Оценка дисперсии, $s^2$', 'Оценка с.к.о., $s$'],\n",
    "    [[str(x.mean()), str(x.var()) , str(x.s())]]\n",
    ")"
   ]
  },
  {
   "cell_type": "markdown",
   "metadata": {},
   "source": [
    "## 2. Визуальное представление выборки\n",
    "\n",
    "Гистограммы частот для $n_{bins} \\in \\{5, 10, 15, 20\\}$:"
   ]
  },
  {
   "cell_type": "code",
   "execution_count": 4,
   "metadata": {},
   "outputs": [
    {
     "data": {
      "image/png": "[encoded data removed]",
      "text/plain": [
       "<Figure size 432x288 with 4 Axes>"
      ]
     },
     "metadata": {
      "needs_background": "light"
     },
     "output_type": "display_data"
    }
   ],
   "source": [
    "n_my = 20\n",
    "fig, axs = plt.subplots(2,2)\n",
    "\n",
    "n_bins_values = [5, 10, 15, n_my]\n",
    "\n",
    "for i in range(4):\n",
    "    n_bins = n_bins_values[i]\n",
    "    picture = axs[i // 2][i % 2]\n",
    "    picture.hist(x.data(), bins=n_bins)\n",
    "    picture.set_title('$n_{bins}$ = {}'.format(n_bins, bins='{bins}'), fontsize=24)"
   ]
  },
  {
   "cell_type": "markdown",
   "metadata": {},
   "source": [
    "## 3. Критерий хи-квадрат\n",
    "\n",
    "*а)* Статистическая гипотеза $H_0: X \\sim N$"
   ]
  },
  {
   "cell_type": "code",
   "execution_count": 5,
   "metadata": {},
   "outputs": [
    {
     "data": {
      "text/html": [
       "<table width=\"100%\" class=\"htable\">\n",
       "    <thead><tr><th>Число интервалов группировки</th><th>Выборочное значение статистики критерия</th><th>p-value</th><th>Статистическое решение при $\\alpha$ = 0.01</th><th>Ошибка статистического решения</th></tr></thead>\n",
       "    <tbody><tr><td>5</td><td>895.5263</td><td>0.0</td><td>H1</td><td>нет ошибки</td></tr><tr><td>10</td><td>1012.4088</td><td>0.0</td><td>H1</td><td>нет ошибки</td></tr><tr><td>15</td><td>1235.7483</td><td>0.0</td><td>H1</td><td>нет ошибки</td></tr><tr><td>20</td><td>1261.1616</td><td>0.0</td><td>H1</td><td>нет ошибки</td></tr></tbody>\n",
       "    </table>"
      ],
      "text/plain": [
       "<IPython.core.display.HTML object>"
      ]
     },
     "metadata": {},
     "output_type": "display_data"
    }
   ],
   "source": [
    "from s import Pierson1SampledHyp\n",
    "\n",
    "alpha = 0.01\n",
    "my_n = n_my\n",
    "\n",
    "proposed_dist1 = stats.norm(X.mean(), X.std())# or X.var()\n",
    "\n",
    "def table_row(n, prop_dist, par_n):\n",
    "    start = 0.\n",
    "    end = 9.\n",
    "    step = (end - start) / n\n",
    "    \n",
    "    h0 = Pierson1SampledHyp(\n",
    "        bins=np.arange(start, end + step, step),\n",
    "        unknown_params_n=par_n\n",
    "    )\n",
    "    criterion_v, critical_v, p_v, passed = h0.full_test(dist=prop_dist, sample=x, alpha=alpha)\n",
    "    decision = 'H0' if passed else 'H1'\n",
    "    if (decision == 'H1'):\n",
    "        er = \"нет ошибки\"\n",
    "    else:\n",
    "        er = \"есть ошибка второго рода\"\n",
    "    return [n, round(criterion_v, 4), round(p_v, 4), decision, er]\n",
    "\n",
    "table(\n",
    "    [\n",
    "        'Число интервалов группировки',\n",
    "        'Выборочное значение статистики критерия',\n",
    "        'p-value',\n",
    "        'Статистическое решение при $\\\\alpha$ = {}'.format(alpha),\n",
    "        'Ошибка статистического решения'\n",
    "    ],\n",
    "    [\n",
    "        table_row(5, proposed_dist1, 2),\n",
    "        table_row(10, proposed_dist1, 2),\n",
    "        table_row(15, proposed_dist1, 2),\n",
    "        table_row(my_n, proposed_dist1, 2)\n",
    "    ]\n",
    ")"
   ]
  },
  {
   "cell_type": "markdown",
   "metadata": {},
   "source": [
    "---\n",
    "\n",
    "*б)* Статистическая гипотеза $H_0: X \\sim R$"
   ]
  },
  {
   "cell_type": "code",
   "execution_count": 13,
   "metadata": {},
   "outputs": [
    {
     "data": {
      "text/html": [
       "<table width=\"100%\" class=\"htable\">\n",
       "    <thead><tr><th>Число интервалов группировки</th><th>Выборочное значение статистики критерия</th><th>p-value</th><th>Статистическое решение при $\\alpha$ = 0.01</th><th>Ошибка статистического решения</th></tr></thead>\n",
       "    <tbody><tr><td>5</td><td>528.0</td><td>0.0</td><td>H1</td><td>нет ошибки</td></tr><tr><td>10</td><td>884.1</td><td>0.0</td><td>H1</td><td>нет ошибки</td></tr><tr><td>15</td><td>1148.2</td><td>0.0</td><td>H1</td><td>нет ошибки</td></tr><tr><td>20</td><td>1297.2</td><td>0.0</td><td>H1</td><td>нет ошибки</td></tr></tbody>\n",
       "    </table>"
      ],
      "text/plain": [
       "<IPython.core.display.HTML object>"
      ]
     },
     "metadata": {},
     "output_type": "display_data"
    }
   ],
   "source": [
    "alpha = 0.01\n",
    "my_n = n_my\n",
    "\n",
    "proposed_dist2 = stats.uniform(0, 9)# m=(b+a)/2   d=(b-a)^2/12 m=(6-2)/2 d=(6+2)/2\n",
    "\n",
    "table(\n",
    "    [\n",
    "        'Число интервалов группировки',\n",
    "        'Выборочное значение статистики критерия',\n",
    "        'p-value',\n",
    "        'Статистическое решение при $\\\\alpha$ = {}'.format(alpha),\n",
    "        'Ошибка статистического решения'\n",
    "    ],\n",
    "    [\n",
    "        table_row(5, proposed_dist2, 2),\n",
    "        table_row(10, proposed_dist2, 2),\n",
    "        table_row(15, proposed_dist2, 2),\n",
    "        table_row(my_n, proposed_dist2, 2)\n",
    "    ]\n",
    ")"
   ]
  },
  {
   "cell_type": "markdown",
   "metadata": {},
   "source": [
    "---\n",
    "\n",
    "*в)* Статистическая гипотеза $H_0: X \\sim \\chi^2(5)$"
   ]
  },
  {
   "cell_type": "code",
   "execution_count": 14,
   "metadata": {},
   "outputs": [
    {
     "data": {
      "text/html": [
       "<table width=\"100%\" class=\"htable\">\n",
       "    <thead><tr><th>Число интервалов группировки</th><th>Выборочное значение статистики критерия</th><th>p-value</th><th>Статистическое решение при $\\alpha$ = 0.01</th><th>Ошибка статистического решения</th></tr></thead>\n",
       "    <tbody><tr><td>5</td><td>941.0511</td><td>0.0</td><td>H1</td><td>нет ошибки</td></tr><tr><td>10</td><td>3305.474</td><td>0.0</td><td>H1</td><td>нет ошибки</td></tr><tr><td>15</td><td>6918.8131</td><td>0.0</td><td>H1</td><td>нет ошибки</td></tr><tr><td>20</td><td>11097.9623</td><td>0.0</td><td>H1</td><td>нет ошибки</td></tr></tbody>\n",
       "    </table>"
      ],
      "text/plain": [
       "<IPython.core.display.HTML object>"
      ]
     },
     "metadata": {},
     "output_type": "display_data"
    }
   ],
   "source": [
    "alpha = 0.01\n",
    "my_n = n_my\n",
    "\n",
    "proposed_dist3 = stats.chi2(5)\n",
    "\n",
    "table(\n",
    "    [\n",
    "        'Число интервалов группировки',\n",
    "        'Выборочное значение статистики критерия',\n",
    "        'p-value',\n",
    "        'Статистическое решение при $\\\\alpha$ = {}'.format(alpha),\n",
    "        'Ошибка статистического решения'\n",
    "    ],\n",
    "    [\n",
    "        table_row(5, proposed_dist3, 1),\n",
    "        table_row(10, proposed_dist3, 1),\n",
    "        table_row(15, proposed_dist3, 1),\n",
    "        table_row(my_n, proposed_dist3, 1)\n",
    "    ]\n",
    ")"
   ]
  },
  {
   "cell_type": "markdown",
   "metadata": {},
   "source": [
    "## 4. Критерий Колмогорова"
   ]
  },
  {
   "cell_type": "code",
   "execution_count": 15,
   "metadata": {},
   "outputs": [
    {
     "name": "stdout",
     "output_type": "stream",
     "text": [
      "KstestResult(statistic=0.30855871698073034, pvalue=0.0)\n",
      "KstestResult(statistic=0.985, pvalue=0.0)\n",
      "KstestResult(statistic=0.7474538768902538, pvalue=0.0)\n"
     ]
    },
    {
     "data": {
      "text/html": [
       "<table width=\"100%\" class=\"htable\">\n",
       "    <thead><tr><th>Статистическая гипотеза $H_0$</th><th>Выборочное значение статистики критерия</th><th>p-value</th><th>Статистическое решение при $\\alpha$ = 0.01</th><th>Ошибка статистического решения</th></tr></thead>\n",
       "    <tbody><tr><td>$X \\sim N(m, \\sigma)$</td><td>0.3086</td><td>0.0</td><td>H1</td><td>нет ошибки</td></tr><tr><td>$X \\sim R$</td><td>0.985</td><td>0.0</td><td>H1</td><td>нет ошибки</td></tr><tr><td>$X \\sim \\chi^2(5)$</td><td>0.7475</td><td>0.0</td><td>H1</td><td>нет ошибки</td></tr></tbody>\n",
       "    </table>"
      ],
      "text/plain": [
       "<IPython.core.display.HTML object>"
      ]
     },
     "metadata": {},
     "output_type": "display_data"
    }
   ],
   "source": [
    "alpha = 0.01\n",
    "\n",
    "z099 = stats.ksone(200).ppf(1-alpha) #квантиль распределния Колмогорова\n",
    "def table_row_ks(dis, sq): # dis - string\n",
    "    cr_p = stats.kstest(x.data(), dis, sq, alternative = 'two-sided') #args=(.., ..)\n",
    "    decision = \"H0\"\n",
    "    er = \"есть ошибка второго рода\"\n",
    "    print(cr_p)\n",
    "    if (cr_p[0] > z099):\n",
    "        decision = \"H1\"\n",
    "        er = \"нет ошибки\"\n",
    "    return [round(cr_p[0], 4), round(cr_p[1], 4), decision, er]\n",
    "\n",
    "table(\n",
    "    [\n",
    "        'Статистическая гипотеза $H_0$',\n",
    "        'Выборочное значение статистики критерия',\n",
    "        'p-value',\n",
    "        'Статистическое решение при $\\\\alpha$ = {}'.format(alpha),\n",
    "        'Ошибка статистического решения'\n",
    "    ],\n",
    "    [\n",
    "        ['$X \\\\sim N(m, \\\\sigma)$'] + table_row_ks(\"norm\", [X.mean(), X.var()]),\n",
    "        ['$X \\\\sim R$'] + table_row_ks(\"uniform\", [5, 20]),\n",
    "        ['$X \\\\sim \\\\chi^2(5)$'] + table_row_ks(\"chi2\", [5])\n",
    "    ]\n",
    ")"
   ]
  },
  {
   "cell_type": "code",
   "execution_count": 16,
   "metadata": {
    "scrolled": false
   },
   "outputs": [
    {
     "data": {
      "image/png": "[encoded data removed]",
      "text/plain": [
       "<Figure size 432x288 with 1 Axes>"
      ]
     },
     "metadata": {
      "needs_background": "light"
     },
     "output_type": "display_data"
    }
   ],
   "source": [
    "h0_distributions = [\n",
    "    ('N', proposed_dist1),\n",
    "    ('R', proposed_dist2),\n",
    "    ('Chi2', proposed_dist3)\n",
    "]\n",
    "\n",
    "\n",
    "fig, ax = plt.subplots()\n",
    "ax.set_title('Эмпирическая и теоретические функции распределения')\n",
    "\n",
    "for name, dist in h0_distributions:\n",
    "    domain = np.linspace(\n",
    "        max(0, dist.ppf(0.001)),\n",
    "        min(9, dist.ppf(0.999)),\n",
    "        200\n",
    "    )\n",
    "    values = dist.cdf(domain)\n",
    "    ax.plot(domain, values, lw=5, label=name)\n",
    "    ax.fill_between(domain, 0, values, alpha=.2)\n",
    "    \n",
    "ecdf = ECDF(x.data())\n",
    "domain = np.linspace(x.min(), x.max(), x.n() * 2)\n",
    "values = ecdf(domain)\n",
    "ax.plot(domain, values, lw=5, label='ECDF')\n",
    "ax.fill_between(domain, 0, values, alpha=.2)\n",
    "\n",
    "ax.legend(prop={'size': 32})\n",
    "    \n",
    "fig.tight_layout()\n",
    "plt.show()"
   ]
  },
  {
   "cell_type": "markdown",
   "metadata": {},
   "source": [
    "# 5. Двухвыборочные критерии"
   ]
  },
  {
   "cell_type": "code",
   "execution_count": 17,
   "metadata": {},
   "outputs": [
    {
     "name": "stdout",
     "output_type": "stream",
     "text": [
      "Характеристики СВ Y:\n"
     ]
    },
    {
     "data": {
      "text/html": [
       "<table width=\"100%\" class=\"htable\">\n",
       "    <thead><tr><th>Распределение</th><th>Параметры</th><th>Мат. ожидание $m$</th><th>Дисперсия $\\sigma^2$</th></tr></thead>\n",
       "    <tbody><tr><td>R</td><td>0, 1</td><td>0.5</td><td>0.09</td></tr></tbody>\n",
       "    </table>"
      ],
      "text/plain": [
       "<IPython.core.display.HTML object>"
      ]
     },
     "metadata": {},
     "output_type": "display_data"
    },
    {
     "name": "stdout",
     "output_type": "stream",
     "text": [
      "Характеристики выборки y\n"
     ]
    },
    {
     "data": {
      "text/html": [
       "<table width=\"100%\" class=\"htable\">\n",
       "    <thead><tr><th>Среднее, $\\overline{x}$</th><th>Оценка дисперсии, $s^2$</th><th>Оценка с.к.о., $s$</th></tr></thead>\n",
       "    <tbody><tr><td>0.5287746592107443</td><td>0.0856234355162675</td><td>0.2933491163041909</td></tr></tbody>\n",
       "    </table>"
      ],
      "text/plain": [
       "<IPython.core.display.HTML object>"
      ]
     },
     "metadata": {},
     "output_type": "display_data"
    }
   ],
   "source": [
    "print('Характеристики СВ Y:')\n",
    "table(\n",
    "    ['Распределение', 'Параметры', 'Мат. ожидание $m$', 'Дисперсия $\\\\sigma^2$'],\n",
    "    [['R', \"0, 1\", \"0.5\", '0.09']]\n",
    ")\n",
    "\n",
    "print('Характеристики выборки y')\n",
    "table(\n",
    "    ['Среднее, $\\\\overline{x}$', 'Оценка дисперсии, $s^2$', 'Оценка с.к.о., $s$'],\n",
    "    [[str(y.mean()), str(y.var()) , str(y.s())]]\n",
    ")"
   ]
  },
  {
   "cell_type": "code",
   "execution_count": 18,
   "metadata": {},
   "outputs": [
    {
     "data": {
      "text/plain": [
       "<matplotlib.legend.Legend at 0x24ae99dfd68>"
      ]
     },
     "execution_count": 18,
     "metadata": {},
     "output_type": "execute_result"
    },
    {
     "data": {
      "image/png": "[encoded data removed]",
      "text/plain": [
       "<Figure size 432x288 with 2 Axes>"
      ]
     },
     "metadata": {
      "needs_background": "light"
     },
     "output_type": "display_data"
    }
   ],
   "source": [
    "fig, ax = plt.subplots(1, 2)\n",
    "\n",
    "left_plot = ax[0]\n",
    "right_plot = ax[1]\n",
    "\n",
    "min_val = max(x.min(), y.min())\n",
    "max_val = min(x.max(), y.max())\n",
    "clipped_x = np.clip(x.data(), min_val, max_val)\n",
    "clipped_y = np.clip(y.data(), min_val, max_val)\n",
    "\n",
    "left_plot.set_title('HIST: X, Y')\n",
    "left_plot.hist(clipped_x, bins=10, label='x', alpha=.5)\n",
    "left_plot.hist(clipped_y, bins=10, label='y', alpha=.5)\n",
    "left_plot.legend()\n",
    "\n",
    "\n",
    "right_plot.set_title('ECDF: X, Y');\n",
    "ecdfX = ECDF(x.data())\n",
    "ecdfY = ECDF(y.data())\n",
    "domainX = np.linspace(x.min(), x.max(), x.n() * 2)\n",
    "domainY = np.linspace(y.min(), y.max(), y.n() * 2)\n",
    "valuesX = ecdfX(domainX)\n",
    "valuesY = ecdfY(domainY)\n",
    "right_plot.plot(domainX, valuesX, lw=5, label='ECDF')\n",
    "right_plot.fill_between(domainX, 0, valuesX, alpha=.2)\n",
    "right_plot.plot(domainY, valuesY, lw=5, label='ECDF')\n",
    "right_plot.fill_between(domainY, 0, valuesY, alpha=.2)\n",
    "right_plot.legend(\"\")\n",
    "\n",
    "# TODO: ECDF"
   ]
  },
  {
   "cell_type": "code",
   "execution_count": 23,
   "metadata": {},
   "outputs": [
    {
     "data": {
      "text/html": [
       "<table width=\"100%\" class=\"htable\">\n",
       "    <thead><tr><th>Критерий</th><th>Статистическая гипотеза $H_0$</th><th>Выборочное значение статистики критерия</th><th>p-value</th><th>Статистическое решение при $\\alpha$ = 0.01</th><th>Ошибка статистического решения</th></tr></thead>\n",
       "    <tbody><tr><td>Chi-squared</td><td>X~Y</td><td>114.7034</td><td>0.0</td><td>H1</td><td>нет ошибки</td></tr><tr><td>KS-test</td><td>X~Y</td><td>0.26</td><td>0.0</td><td>H1</td><td>нет ошибки</td></tr><tr><td>U-test</td><td>X~Y</td><td>-2.2432</td><td>0.0253</td><td>H0</td><td>есть ошибка второого рода</td></tr></tbody>\n",
       "    </table>"
      ],
      "text/plain": [
       "<IPython.core.display.HTML object>"
      ]
     },
     "metadata": {},
     "output_type": "display_data"
    }
   ],
   "source": [
    "from s import Pierson2SampledHyp\n",
    "alpha = 0.01\n",
    "\n",
    "def left_p_value(dist, criterion_value):\n",
    "    return dist.cdf(criterion_value)\n",
    "\n",
    "def two_sided_p_value(dist, criterion_value):\n",
    "    left_p = left_p_value(dist, criterion_value)\n",
    "    return 2 * min(left_p, 1 - left_p)\n",
    "\n",
    "def chi_2():\n",
    "    start = 0.\n",
    "    end = 2.\n",
    "    step = (end - start) / my_n\n",
    "    \n",
    "    h0 = Pierson2SampledHyp(\n",
    "        bins=np.arange(start, end + step, step)\n",
    "    )\n",
    "    criterion_v, critical_values, p_v, passed = h0.full_test(x, y, alpha)\n",
    "    if passed :\n",
    "        decision = 'H0' \n",
    "        er = 'есть ошибка второго рода'\n",
    "    else :\n",
    "        decision = 'H1'\n",
    "        er = 'нет ошибки'\n",
    "    return [round(criterion_v, 4), round(p_v, 4), decision, er]\n",
    "\n",
    "def KS ():\n",
    "    s_p = stats.ks_2samp(x.data(), y.data())\n",
    "    if (s_p[0] < z099) :\n",
    "        decision = 'H0' \n",
    "        er = 'есть ошибка второго рода'\n",
    "    else :\n",
    "        decision = 'H1'\n",
    "        er = 'нет ошибки'\n",
    "    return [round(s_p[0], 4), round(s_p[1], 4), decision, er]\n",
    "\n",
    "def ST ():\n",
    "    K = ((x.data()-y.data())>0).sum()\n",
    "    Z = (K-nx/2)/(np.sqrt(nx)/2)\n",
    "    if (abs(Z) < stats.norm(0, 1).ppf(0.995)) :\n",
    "        decision = 'H0' \n",
    "        er = 'есть ошибка второго рода'\n",
    "    else :\n",
    "        decision = 'H1'\n",
    "        er = 'нет ошибки'\n",
    "    return [round(Z, 4), round(two_sided_p_value(stats.norm, Z), 4), decision, er]\n",
    "\n",
    "def U ():\n",
    "    s_p = stats.mannwhitneyu(x.data(), y.data(), alternative = 'two-sided')\n",
    "    cr = (s_p[0] - nx*ny/2)/np.sqrt(nx*ny*(nx+ny-1)/12)\n",
    "    if (abs(cr) < stats.norm(0, 1).ppf(0.995)) :\n",
    "        decision = 'H0' \n",
    "        er = 'есть ошибка второого рода'\n",
    "    else :\n",
    "        decision = 'H1'\n",
    "        er = 'нет ошибки'\n",
    "    return [round(cr, 4), round(s_p[1], 4), decision, er]\n",
    "  \n",
    "\n",
    "table(\n",
    "    [\n",
    "        'Критерий',\n",
    "        'Статистическая гипотеза $H_0$',\n",
    "        'Выборочное значение статистики критерия',\n",
    "        'p-value',\n",
    "        'Статистическое решение при $\\\\alpha$ = {}'.format(alpha),\n",
    "        'Ошибка статистического решения'\n",
    "    ],\n",
    "    [\n",
    "        ['Chi-squared', 'X~Y'] + chi_2(),\n",
    "        ['KS-test', 'X~Y'] + KS(),\n",
    "        ['U-test', 'X~Y'] + U()\n",
    "    ]\n",
    ")"
   ]
  },
  {
   "cell_type": "code",
   "execution_count": null,
   "metadata": {},
   "outputs": [],
   "source": []
  },
  {
   "cell_type": "code",
   "execution_count": null,
   "metadata": {},
   "outputs": [],
   "source": []
  }
 ],
 "metadata": {
  "kernelspec": {
   "display_name": "Python 3",
   "language": "python",
   "name": "python3"
  },
  "language_info": {
   "codemirror_mode": {
    "name": "ipython",
    "version": 3
   },
   "file_extension": ".py",
   "mimetype": "text/x-python",
   "name": "python",
   "nbconvert_exporter": "python",
   "pygments_lexer": "ipython3",
   "version": "3.6.7"
  }
 },
 "nbformat": 4,
 "nbformat_minor": 2
}